{
 "cells": [
  {
   "cell_type": "markdown",
   "id": "f5d3dcfb-58e2-4c89-84f0-e002b8b98a07",
   "metadata": {},
   "source": [
    "# Data Science Tools and Ecosystem"
   ]
  },
  {
   "cell_type": "markdown",
   "id": "bee8c23b-0cd2-4c47-8a79-f56cbe3dcd29",
   "metadata": {},
   "source": [
    "In this notebook, Data Science Tools and Ecosystem are summarized."
   ]
  },
  {
   "cell_type": "markdown",
   "id": "947f9c1a-0793-4729-9a12-0599a86a5e79",
   "metadata": {},
   "source": [
    "**Objectives:**\n",
    "- Python\n",
    "- R-programming\n",
    "- SQL\n",
    "- Java\n",
    "- Julia  "
   ]
  },
  {
   "cell_type": "markdown",
   "id": "68e6c581-d98f-49d1-b9c4-f45ee99b4819",
   "metadata": {},
   "source": [
    "Some of the popular languages that Data Scientists use are:\n",
    "1) Python\n",
    "2) R-programming\n",
    "3) SQL\n",
    "4) Java"
   ]
  },
  {
   "cell_type": "markdown",
   "id": "47d520dd-c8bb-4393-b5a9-9fca0765f485",
   "metadata": {},
   "source": [
    "Some of the commonly used libraries used by Data Scientists include:\n",
    "1) Pandas\n",
    "2) Matplotlib\n",
    "3) Ggplot2\n",
    "4) Seaborn"
   ]
  },
  {
   "cell_type": "markdown",
   "id": "5c068859-a324-41b5-9367-b46ea5b7ed57",
   "metadata": {},
   "source": [
    "|Data Science Tools|\n",
    "|------------------|\n",
    "|Jupyter Notebook|\n",
    "|R-Studio|\n",
    "|Visual Studio Code|\n"
   ]
  },
  {
   "cell_type": "markdown",
   "id": "ef300308-b62b-4efa-a76a-6c9c6ee4b647",
   "metadata": {},
   "source": [
    "### Below are a few examples of evaluating arithmetic expressions in Python"
   ]
  },
  {
   "cell_type": "code",
   "execution_count": 2,
   "id": "a4ed44c7-eeb8-4769-abf8-338c169552ae",
   "metadata": {},
   "outputs": [
    {
     "data": {
      "text/plain": [
       "17"
      ]
     },
     "execution_count": 2,
     "metadata": {},
     "output_type": "execute_result"
    }
   ],
   "source": [
    "# This a simple arithmetic expression to mutiply then add integers.\n",
    "(3*4)+5"
   ]
  },
  {
   "cell_type": "code",
   "execution_count": 3,
   "id": "465ca332-da17-490d-b11a-bfa403ef14b4",
   "metadata": {},
   "outputs": [
    {
     "data": {
      "text/plain": [
       "3.3333333333333335"
      ]
     },
     "execution_count": 3,
     "metadata": {},
     "output_type": "execute_result"
    }
   ],
   "source": [
    "# This will convert 200 minutes to hours by diving by 60.\n",
    "200/60"
   ]
  },
  {
   "cell_type": "markdown",
   "id": "f33cdf4b-7d41-4763-8ec2-0a4cdc51b198",
   "metadata": {},
   "source": [
    "## Author\n",
    "Rahul Avaroth Bhaskaran"
   ]
  },
  {
   "cell_type": "code",
   "execution_count": null,
   "id": "29763b4f-1512-444f-a952-0a0d5575e9b6",
   "metadata": {},
   "outputs": [],
   "source": []
  }
 ],
 "metadata": {
  "kernelspec": {
   "display_name": "Python 3 (ipykernel)",
   "language": "python",
   "name": "python3"
  },
  "language_info": {
   "codemirror_mode": {
    "name": "ipython",
    "version": 3
   },
   "file_extension": ".py",
   "mimetype": "text/x-python",
   "name": "python",
   "nbconvert_exporter": "python",
   "pygments_lexer": "ipython3",
   "version": "3.12.4"
  }
 },
 "nbformat": 4,
 "nbformat_minor": 5
}
